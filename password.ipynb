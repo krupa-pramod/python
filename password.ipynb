{
 "cells": [
  {
   "cell_type": "code",
   "execution_count": null,
   "id": "975516bf-d4a8-44f3-8f41-2b3a30040fda",
   "metadata": {},
   "outputs": [
    {
     "name": "stdin",
     "output_type": "stream",
     "text": [
      "What would you like to do today? \n",
      " (1) save a new password \n",
      " (2) look at your passwords \n",
      " (3) search password \n",
      " (4) exit \n",
      " 3\n",
      "What app are you looking for? Gmail\n"
     ]
    },
    {
     "name": "stdout",
     "output_type": "stream",
     "text": [
      "Not found\n",
      "Not found\n",
      "Not found\n",
      "Not found\n",
      "Not found\n",
      "App: Gmail, Password: password\n"
     ]
    }
   ],
   "source": [
    "def write_password(user_password, user_app):\n",
    "    with open(\"passwords.txt\", mode = \"a\") as file:\n",
    "        file.write(f\"{user_app}:{user_password}\\n\")\n",
    "        \n",
    "def read_password():\n",
    "    with open(\"passwords.txt\", mode = \"rt\") as file:\n",
    "        for line in file:\n",
    "            app, password = line.strip().split(\":\")\n",
    "            print(f\"App: {app}; Password: {password}\")\n",
    "\n",
    "def search_password(term):\n",
    "    found = False\n",
    "    with open(\"passwords.txt\", mode = 'rt') as file:\n",
    "        for line in file:\n",
    "            app, password = line.strip().split(\":\")\n",
    "            if term == app:\n",
    "                print(f\"App: {app}, Password: {password}\")\n",
    "                found = True\n",
    "                break\n",
    "\n",
    "            if not found:\n",
    "                print(\"Not found\")\n",
    "            \n",
    "\n",
    "while True:\n",
    "    begin_program = input(\"What would you like to do today? \\n (1) save a new password \\n (2) look at your passwords \\n (3) search password \\n (4) exit \\n\")\n",
    "    if begin_program == \"1\":\n",
    "        user_password = input(\"Enter your password: \")\n",
    "        user_app = input(\"What app is this password for?\")\n",
    "        write_password(user_password, user_app)\n",
    "        print(\"Password Saved!\")\n",
    "    elif begin_program == \"2\":\n",
    "        read_password()\n",
    "    elif begin_program == \"3\":\n",
    "        term = input(\"What app are you looking for?\")\n",
    "        search_password(term)\n",
    "    elif begin_program == \"4\":\n",
    "        print(\"Bye!\")\n",
    "        break\n",
    "    else:\n",
    "        print(\"Enter a valid input\")"
   ]
  },
  {
   "cell_type": "code",
   "execution_count": null,
   "id": "49380fff-b649-465a-bb9d-7919dfd2596f",
   "metadata": {},
   "outputs": [],
   "source": []
  }
 ],
 "metadata": {
  "kernelspec": {
   "display_name": "Python 3 (ipykernel)",
   "language": "python",
   "name": "python3"
  },
  "language_info": {
   "codemirror_mode": {
    "name": "ipython",
    "version": 3
   },
   "file_extension": ".py",
   "mimetype": "text/x-python",
   "name": "python",
   "nbconvert_exporter": "python",
   "pygments_lexer": "ipython3",
   "version": "3.12.7"
  }
 },
 "nbformat": 4,
 "nbformat_minor": 5
}
